{
 "cells": [
  {
   "cell_type": "code",
   "execution_count": 1,
   "metadata": {},
   "outputs": [
    {
     "name": "stdout",
     "output_type": "stream",
     "text": [
      "INITIAL VALUES\n",
      "Error:  [[0.69314718]]\n",
      "W1:0.0, W2:0.0, b:0.0\n",
      "---------------------\n",
      "Error:  [[0.09182152]]\n",
      "W1:-0.4667465172206347, W2:-0.7101808566961325, b:9.560273189947235\n"
     ]
    },
    {
     "data": {
      "image/png": "[encoded data removed]",
      "text/plain": [
       "<Figure size 288x288 with 1 Axes>"
      ]
     },
     "metadata": {
      "needs_background": "light"
     },
     "output_type": "display_data"
    }
   ],
   "source": [
    "import numpy as np\n",
    "import matplotlib.pyplot as plt\n",
    "\n",
    "%matplotlib inline\n",
    "\n",
    "n_pts = 100\n",
    "np.random.seed(0) #Keep the same random seed\n",
    "bias = np.ones(n_pts)\n",
    "top_region = np.array([np.random.normal(10,2,n_pts), np.random.normal(12,2,n_pts), bias]).T\n",
    "bottom_region = np.array([np.random.normal(5,2, n_pts), np.random.normal(6,2, n_pts), bias]).T\n",
    "all_points = np.vstack((top_region, bottom_region))\n",
    "line_parameters = np.matrix([np.zeros(3)]).T\n",
    "# x1=np.array([bottom_region[:,0].min(), top_region[:,0].max()])\n",
    "# x2= -b/w2 + (x1*(-w1/w2))\n",
    "y = np.array([np.zeros(n_pts), np.ones(n_pts)]).reshape(n_pts*2, 1)\n",
    " \n",
    "def draw(x1,x2):\n",
    "  ln = plt.plot(x1,x2)\n",
    "\n",
    "def sigmoid(score):\n",
    "    return 1/(1+np.exp(-score))\n",
    "\n",
    "def calculate_error(line_parameters, points , y):\n",
    "  n = points.shape[0]\n",
    "  p = sigmoid(points*line_parameters)\n",
    "  cross_entropy = -(1/n)*(np.log(p).T*y + np.log(1-p).T*(1-y))\n",
    "  return cross_entropy\n",
    "\n",
    "def gradient_descent(line_parameters, points, y , alpha):\n",
    "  n = points.shape[0]\n",
    "  for i in range(5000):\n",
    "    p = sigmoid(points*line_parameters)\n",
    "    gradient = points.T*(p-y)*(alpha/n)\n",
    "    line_parameters = line_parameters - gradient\n",
    "    \n",
    "    w1 = line_parameters.item(0)\n",
    "    w2 = line_parameters.item(1)\n",
    "    b = line_parameters.item(2)\n",
    "    \n",
    "    x1 = np.array([points[:,0].min(), points[:,0].max()])\n",
    "    # w1x1 + w2x2 + b = 0\n",
    "    x2 = -b/w2 + (x1*(-w1/w2))\n",
    "  draw(x1,x2)\n",
    "  print(\"Error: \", calculate_error(line_parameters, all_points, y))\n",
    "  print(\"W1:{}, W2:{}, b:{}\".format(w1,w2,b))\n",
    "  \n",
    "\n",
    "_, ax= plt.subplots(figsize=(4,4))\n",
    "ax.scatter(top_region[:,0], top_region[:,1], color='r')\n",
    "ax.scatter(bottom_region[:,0], bottom_region[:,1], color='b')\n",
    "\n",
    "initial_w1 = line_parameters.item(0)\n",
    "initial_w2 = line_parameters.item(1)\n",
    "initial_b = line_parameters.item(2)\n",
    "print(\"INITIAL VALUES\")\n",
    "print(\"Error: \", calculate_error(line_parameters, all_points, y))\n",
    "print(\"W1:{}, W2:{}, b:{}\".format(initial_w1,initial_w2,initial_b))\n",
    "print(\"---------------------\")\n",
    "\n",
    "gradient_descent(line_parameters, all_points, y , 0.06)\n",
    "plt.show()\n"
   ]
  }
 ],
 "metadata": {
  "kernelspec": {
   "display_name": "Python 3 (ipykernel)",
   "language": "python",
   "name": "python3"
  },
  "language_info": {
   "codemirror_mode": {
    "name": "ipython",
    "version": 3
   },
   "file_extension": ".py",
   "mimetype": "text/x-python",
   "name": "python",
   "nbconvert_exporter": "python",
   "pygments_lexer": "ipython3",
   "version": "3.8.10"
  }
 },
 "nbformat": 4,
 "nbformat_minor": 2
}
